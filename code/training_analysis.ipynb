{
 "cells": [
  {
   "cell_type": "code",
   "execution_count": 2,
   "metadata": {},
   "outputs": [
    {
     "name": "stderr",
     "output_type": "stream",
     "text": [
      "INFO:dataset_loader.data:Pickled data available. Loading now!\n",
      "INFO:dataset_loader.data:Success! Completed loading the data!\n"
     ]
    }
   ],
   "source": [
    "from dataset_loader import *\n",
    "from encode_decode import *\n",
    "from train_model import *\n",
    "from test_model import *\n",
    "import matplotlib.pyplot as plt\n",
    "import numpy as np\n",
    "\n",
    "# first load the data\n",
    "data = dataset_loader(delta_t = 40.0, k = 10, offset = 10) \n",
    "\n",
    "# setup some data specific variables\n",
    "dt = data.delta_t\n",
    "X_train = data.X_train['walking']\n",
    "y_train = data.y_train['walking']\n",
    "opt_flows_train = data.optical_flows_train['walking']\n",
    "motion_representations_train = data.motion_representations_train['walking']\n",
    "\n",
    "X_test = data.X_test['walking']\n",
    "y_test = data.y_test['walking']\n",
    "opt_flows_test = data.optical_flows_test['walking']\n"
   ]
  },
  {
   "cell_type": "code",
   "execution_count": 13,
   "metadata": {},
   "outputs": [
    {
     "name": "stderr",
     "output_type": "stream",
     "text": [
      "INFO:train_model.model_trainer:Completed setting up the computational graph!\n",
      "INFO:train_model.model_trainer:Completed iteration 1\n",
      "INFO:train_model.model_trainer:Completed epoch 1\n",
      "INFO:train_model.model_trainer:Loss after epoch 1 : 2062060032.0\n",
      "INFO:train_model.model_trainer:All epochs of training now complete.\n",
      "INFO:train_model.model_trainer:Saved the model to results directory.\n",
      "INFO:train_model.model_trainer:Training complete.\n",
      "INFO:train_model.model_trainer:Completed setting up the computational graph!\n",
      "INFO:train_model.model_trainer:Completed iteration 1\n",
      "INFO:train_model.model_trainer:Completed epoch 1\n",
      "INFO:train_model.model_trainer:Loss after epoch 1 : 455343680.0\n",
      "INFO:train_model.model_trainer:All epochs of training now complete.\n",
      "INFO:train_model.model_trainer:Saved the model to results directory.\n",
      "INFO:train_model.model_trainer:Training complete.\n"
     ]
    },
    {
     "name": "stdout",
     "output_type": "stream",
     "text": [
      "0.01\n"
     ]
    }
   ],
   "source": [
    "# now, tune the model\n",
    "learning_rates = [1e-9, 1e-7, 1e-5, 1e-3, 1e-1]\n",
    "learning_rates = [1e-9, 1e-2]\n",
    "losses = []\n",
    "best_rate = None\n",
    "best_loss = np.inf\n",
    "\n",
    "for lr in learning_rates:\n",
    "    \n",
    "    epoch_losses = train_model(X_train, y_train, dt, \\\n",
    "                               opt_flows_train, motion_representations_train, lr, \\\n",
    "                               epochs = 100, tune = True, print_every = 5)\n",
    "    losses.append(epoch_losses)\n",
    "    if epoch_losses[-1] < best_loss:\n",
    "        best_loss = epoch_losses[-1]\n",
    "        best_rate = lr  \n",
    "print('Best learning rate found for 100 epochs of training {}'.format(best_rate))"
   ]
  },
  {
   "cell_type": "code",
   "execution_count": 22,
   "metadata": {},
   "outputs": [
    {
     "data": {
      "image/png": "[encoded data removed]",
      "text/plain": [
       "<Figure size 1008x576 with 1 Axes>"
      ]
     },
     "metadata": {
      "needs_background": "light"
     },
     "output_type": "display_data"
    }
   ],
   "source": [
    "plt.figure(figsize=(14, 8))\n",
    "\n",
    "# visualize results\n",
    "losses = np.array(losses)\n",
    "plt.plot(losses[0], '-o')\n",
    "plt.plot(losses[1], '-r')\n",
    "plt.plot(losses[2], '-b')\n",
    "plt.plot(losses[3], '-g')\n",
    "plt.plot(losses[4], '-y')\n",
    "plt.legend(['1e-9', '1e-7', '1e-5', '1e-3', '1e-1'], loc='upper right')\n",
    "plt.xlabel('epochs')\n",
    "plt.ylabel('losses')\n",
    "plt.show()"
   ]
  },
  {
   "cell_type": "code",
   "execution_count": null,
   "metadata": {},
   "outputs": [],
   "source": [
    "# train again using the best found learning rate and save the model!"
   ]
  },
  {
   "cell_type": "code",
   "execution_count": null,
   "metadata": {},
   "outputs": [],
   "source": []
  }
 ],
 "metadata": {
  "kernelspec": {
   "display_name": "Python 3",
   "language": "python",
   "name": "python3"
  },
  "language_info": {
   "codemirror_mode": {
    "name": "ipython",
    "version": 3
   },
   "file_extension": ".py",
   "mimetype": "text/x-python",
   "name": "python",
   "nbconvert_exporter": "python",
   "pygments_lexer": "ipython3",
   "version": "3.6.6"
  }
 },
 "nbformat": 4,
 "nbformat_minor": 2
}
